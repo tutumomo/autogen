{
 "cells": [
  {
   "cell_type": "code",
   "execution_count": null,
   "metadata": {},
   "outputs": [],
   "source": [
    "# from crewai\n",
    "import os\n",
    "from crewai import Agent, Task, Crew, Process\n",
    "from langchain_google_genai import ChatGoogleGenerativeAI\n",
    "from langchain_community.llms import OpenAI, Ollama\n",
    "from langchain_openai import ChatOpenAI\n",
    "# crewai 使用 Ollama 的方法：ollama 已推出 windows 版本，不需要執行 litellm；Mac 則也不需要啟動任何程式，只要有安裝好 Ollama 即可調用。\n",
    "# (autogen 要調用 Ollama 需要執行 litellm，多一道步驟，比較麻煩)\n",
    "gpt35 = ChatOpenAI(model_name=\"gpt-3.5-turbo\", temperature=0.7),\n",
    "gpt4 = ChatOpenAI(model_name=\"gpt-4\", temperature=0.7),\n",
    "# Ollama 大模型，用 modelfile 建立的，可以在 modelfile 設定溫度，但切勿在系統提示詞要它使用中文回復，會造成函數調用不正常\n",
    "# 除此之外，ollama 的 openhermes 模型表現不錯`\n",
    "ollama = Ollama(model=\"openhermes\")\n",
    "# gemini 感覺相容性不好，常出現莫名的錯誤\n",
    "gemini = ChatGoogleGenerativeAI(model=\"gemini-pro\",\n",
    "                             verbose = True,\n",
    "                             temperature = 0.6,\n",
    "                             google_api_key = os.environ[\"GOOGLE_API_KEY\"]\n",
    "                             )\n",
    "defalut_llm = ChatOpenAI(openai_api_base=os.environ.get(\"OPENAI_API_BASE_URL\", \"https://api.openai.com/v1\"),\n",
    "                        openai_api_key=os.environ.get(\"OPENAI_API_KEY\"),\n",
    "                        temperature=0.1,                        \n",
    "                        model_name=os.environ.get(\"MODEL_NAME\", \"gpt-3.5-turbo\"),\n",
    "                        top_p=0.3)"
   ]
  },
  {
   "cell_type": "code",
   "execution_count": null,
   "metadata": {},
   "outputs": [],
   "source": [
    "# 環境變數的名稱在 Windows 似乎沒有大小寫的區分,ie bing_api_key 跟 BING_API_KEY 是一樣的，因為本想設大小寫二個變數，結果只能設一個"
   ]
  },
  {
   "cell_type": "code",
   "execution_count": null,
   "metadata": {},
   "outputs": [],
   "source": [
    "# 會放到雲端\n",
    "\"GOOGLE_API_KEY\": os.environ[\"GOOGLE_API_KEY\"],"
   ]
  },
  {
   "cell_type": "code",
   "execution_count": null,
   "metadata": {},
   "outputs": [],
   "source": [
    "# 只存放在本地，不放雲端\n",
    "\"BING_API_KEY\": \"your_bing_api_key_here\""
   ]
  }
 ],
 "metadata": {
  "language_info": {
   "name": "python"
  }
 },
 "nbformat": 4,
 "nbformat_minor": 2
}
