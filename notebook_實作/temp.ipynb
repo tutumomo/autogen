{
 "cells": [
  {
   "cell_type": "code",
   "execution_count": 6,
   "metadata": {},
   "outputs": [
    {
     "name": "stdout",
     "output_type": "stream",
     "text": [
      "(True,)\n"
     ]
    }
   ],
   "source": [
    "text=\"\"\"\n",
    "In conclusion, 2024 presents an array of cutting-edge trends in AI technology development. Deep learning, reinforcement learning, natural language processing, and perception and cognition technology advancements will continue to push the boundaries of AI application and development. As we look forward to the introduction of these new technologies, we anticipate their substantial impact and transformative breakthroughs for humanity.\n",
    "\n",
    "終止, TERMINATE   \n",
    "\"\"\"\n",
    "is_termination_msg = text.rstrip().endswith(\"TERMINATE\"),\n",
    "print(is_termination_msg)"
   ]
  }
 ],
 "metadata": {
  "kernelspec": {
   "display_name": "venv",
   "language": "python",
   "name": "python3"
  },
  "language_info": {
   "codemirror_mode": {
    "name": "ipython",
    "version": 3
   },
   "file_extension": ".py",
   "mimetype": "text/x-python",
   "name": "python",
   "nbconvert_exporter": "python",
   "pygments_lexer": "ipython3",
   "version": "3.11.8"
  }
 },
 "nbformat": 4,
 "nbformat_minor": 2
}
