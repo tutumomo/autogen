{
 "cells": [
  {
   "cell_type": "code",
   "execution_count": null,
   "metadata": {},
   "outputs": [],
   "source": [
    "\"\"\"\n",
    "Examples 有提供各案例及 notebook\n",
    "https://microsoft.github.io/autogen/docs/Examples\n",
    "https://microsoft.github.io/autogen/\n",
    "https://microsoft.github.io/autogen/docs/Use-Cases/enhanced_inference/#api-unification\n",
    "https://microsoft.github.io/autogen/docs/Use-Cases/agent_chat/\n",
    "https://microsoft.github.io/autogen/docs/llm_configuration\n",
    "https://github.com/microsoft/autogen/blob/main/notebook/config_loader_utility_functions.ipynb\n",
    "https://microsoft.github.io/autogen/blog/\n",
    "\"\"\""
   ]
  },
  {
   "cell_type": "code",
   "execution_count": 1,
   "metadata": {},
   "outputs": [],
   "source": [
    "import autogen\n",
    "from IPython import get_ipython\n",
    "from typing_extensions import Annotated\n",
    "\n",
    "# 限定只用 gpt3.5\n",
    "config_list = autogen.config_list_from_json(\n",
    "    \"OAI_CONFIG_LIST\",\n",
    "    filter_dict={\n",
    "        \"model\": [\"gpt-3.5-turbo-1106\"],\n",
    "    },\n",
    ")"
   ]
  }
 ],
 "metadata": {
  "kernelspec": {
   "display_name": "venv",
   "language": "python",
   "name": "python3"
  },
  "language_info": {
   "codemirror_mode": {
    "name": "ipython",
    "version": 3
   },
   "file_extension": ".py",
   "mimetype": "text/x-python",
   "name": "python",
   "nbconvert_exporter": "python",
   "pygments_lexer": "ipython3",
   "version": "3.11.8"
  }
 },
 "nbformat": 4,
 "nbformat_minor": 2
}
