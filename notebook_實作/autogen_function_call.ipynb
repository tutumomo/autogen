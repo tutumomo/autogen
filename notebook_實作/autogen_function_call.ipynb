{
  "cells": [
    {
      "cell_type": "markdown",
      "metadata": {
        "colab_type": "text",
        "id": "view-in-github"
      },
      "source": [
        "<a href=\"https://colab.research.google.com/github/tutumomo/autogen/blob/main/notebook_%E5%AF%A6%E4%BD%9C/autogen_function_call.ipynb\" target=\"_parent\"><img src=\"https://colab.research.google.com/assets/colab-badge.svg\" alt=\"Open In Colab\"/></a>"
      ]
    },
    {
      "cell_type": "code",
      "execution_count": null,
      "id": "2b803c17",
      "metadata": {
        "id": "2b803c17"
      },
      "outputs": [],
      "source": [
        "!pip install --quiet --upgrade pyautogen"
      ]
    },
    {
      "cell_type": "markdown",
      "id": "5ebd2397",
      "metadata": {
        "id": "5ebd2397"
      },
      "source": [
        "## Set your API Endpoint\n",
        "\n",
        "The [`config_list_from_json`](https://microsoft.github.io/autogen/docs/reference/oai/openai_utils#config_list_from_json) function loads a list of configurations from an environment variable or a json file."
      ]
    },
    {
      "cell_type": "code",
      "execution_count": null,
      "id": "dca301a4",
      "metadata": {
        "id": "dca301a4"
      },
      "outputs": [],
      "source": [
        "import os\n",
        "\n",
        "os.environ['OAI_CONFIG_LIST'] ='''[{\"model\": \"gpt-4-1106-preview\",\"api_key\": \"sk-OPENAI_API_KEY\"},\n",
        "{\"model\": \"accounts/fireworks/models/fw-function-call-34b-v0\",\"api_key\": \"FIREWORKS_API_KEY\", \"base_url\":\"https://api.fireworks.ai/inference/v1\"},\n",
        "{\"model\": \"accounts/fireworks/models/mixtral-8x7b-instruct\",\"api_key\": \"FIREWORKS_API_KEY\", \"base_url\":\"https://api.fireworks.ai/inference/v1\"}]'''\n",
        "\n",
        "\n",
        "import autogen\n",
        "\n",
        "llm_config={\n",
        "    \"timeout\": 600,\n",
        "    \"cache_seed\": 57,  # change the seed for different trials\n",
        "    \"config_list\": autogen.config_list_from_json(\n",
        "        \"OAI_CONFIG_LIST\",\n",
        "        filter_dict={\"model\": [\"accounts/fireworks/models/fw-function-call-34b-v0\"]},\n",
        "        ),\n",
        "    \"temperature\": 0.5,\n",
        "}"
      ]
    },
    {
      "cell_type": "markdown",
      "id": "2b9526e7",
      "metadata": {
        "id": "2b9526e7"
      },
      "source": [
        "## Making Function Calls\n"
      ]
    },
    {
      "cell_type": "code",
      "execution_count": null,
      "id": "pQoP5dVFwvWo",
      "metadata": {
        "id": "pQoP5dVFwvWo"
      },
      "outputs": [],
      "source": [
        "chatbot = autogen.AssistantAgent(\n",
        "    name=\"chatbot\",\n",
        "    system_message=\"\"\"For currency exchange tasks,\n",
        "    only use the functions you have been provided with.\n",
        "    Reply TERMINATE when the task is done.\n",
        "    Reply TERMINATE when user's content is empty.\"\"\",\n",
        "    llm_config=llm_config,\n",
        ")\n",
        "\n",
        "# create a UserProxyAgent instance named \"user_proxy\"\n",
        "user_proxy = autogen.UserProxyAgent(\n",
        "    name=\"user_proxy\",\n",
        "    is_termination_msg=lambda x: x.get(\"content\", \"\") and x.get(\"content\", \"\").rstrip().find(\"TERMINATE\") >= 0,\n",
        "    human_input_mode=\"NEVER\",\n",
        "    max_consecutive_auto_reply=10,\n",
        ")\n",
        "from typing import Literal\n",
        "CurrencySymbol = Literal[\"USD\", \"EUR\"]\n",
        "\n",
        "\n",
        "def exchange_rate(base_currency: CurrencySymbol, quote_currency: CurrencySymbol) -> float:\n",
        "    if base_currency == quote_currency:\n",
        "        return 1.0\n",
        "    elif base_currency == \"USD\" and quote_currency == \"EUR\":\n",
        "        return 1 / 1.1\n",
        "    elif base_currency == \"EUR\" and quote_currency == \"USD\":\n",
        "        return 1.1\n",
        "    else:\n",
        "        raise ValueError(f\"Unknown currencies {base_currency}, {quote_currency}\")\n",
        "\n",
        "\n",
        "from pydantic import BaseModel, Field\n",
        "from typing_extensions import Annotated\n",
        "\n",
        "class Currency(BaseModel):\n",
        "    currency: Annotated[CurrencySymbol, Field(..., description=\"Currency symbol\")]\n",
        "    amount: Annotated[float, Field(..., description=\"Amount of currency\", ge=0)]\n",
        "\n",
        "@user_proxy.register_for_execution()\n",
        "@chatbot.register_for_llm(description=\"Currency exchange calculator.\")\n",
        "def currency_calculator(\n",
        "    base: Annotated[Currency, \"Base currency: amount and currency symbol\"],\n",
        "    quote_currency: Annotated[CurrencySymbol, \"Quote currency symbol\"] = \"USD\",\n",
        ") -> Currency:\n",
        "    quote_amount = exchange_rate(base.currency, quote_currency) * base.amount\n",
        "    return Currency(amount=quote_amount, currency=quote_currency)"
      ]
    },
    {
      "cell_type": "code",
      "execution_count": null,
      "id": "N4YLSGVmYrut",
      "metadata": {
        "colab": {
          "base_uri": "https://localhost:8080/"
        },
        "id": "N4YLSGVmYrut",
        "outputId": "e76a0035-8e2d-486c-9318-d63e671062ba"
      },
      "outputs": [
        {
          "data": {
            "text/plain": [
              "[{'type': 'function',\n",
              "  'function': {'description': 'Currency exchange calculator.',\n",
              "   'name': 'currency_calculator',\n",
              "   'parameters': {'type': 'object',\n",
              "    'properties': {'base': {'$ref': '#/definitions/Currency',\n",
              "      'definitions': {'Currency': {'title': 'Currency',\n",
              "        'type': 'object',\n",
              "        'properties': {'currency': {'title': 'Currency',\n",
              "          'description': 'Currency symbol',\n",
              "          'enum': ['USD', 'EUR'],\n",
              "          'type': 'string'},\n",
              "         'amount': {'title': 'Amount',\n",
              "          'description': 'Amount of currency',\n",
              "          'minimum': 0,\n",
              "          'type': 'number'}},\n",
              "        'required': ['currency', 'amount']}},\n",
              "      'description': 'Base currency: amount and currency symbol'},\n",
              "     'quote_currency': {'enum': ['USD', 'EUR'],\n",
              "      'type': 'string',\n",
              "      'default': 'USD',\n",
              "      'description': 'Quote currency symbol'}},\n",
              "    'required': ['base']}}}]"
            ]
          },
          "execution_count": 4,
          "metadata": {},
          "output_type": "execute_result"
        }
      ],
      "source": [
        "chatbot.llm_config[\"tools\"]"
      ]
    },
    {
      "cell_type": "code",
      "execution_count": null,
      "id": "pLuyUHgR1kZL",
      "metadata": {
        "id": "pLuyUHgR1kZL"
      },
      "outputs": [],
      "source": [
        "# 1. help function, move to the top of conversable_agent.py\n",
        "def del_name(data):\n",
        "  for item in data:\n",
        "      if 'tool_call_id' in item:\n",
        "          item.pop('name', None)\n",
        "          break\n",
        "# 2. call del_name(all_messages) in def generate_oai_reply\n",
        "#    before response = client.create("
      ]
    },
    {
      "cell_type": "code",
      "execution_count": null,
      "id": "9ID8P9hh0LiS",
      "metadata": {
        "colab": {
          "base_uri": "https://localhost:8080/"
        },
        "id": "9ID8P9hh0LiS",
        "outputId": "02c23f07-ec2b-4c5d-adf8-4692bc1fac41"
      },
      "outputs": [
        {
          "name": "stdout",
          "output_type": "stream",
          "text": [
            "user_proxy (to chatbot):\n",
            "\n",
            "How much is 112.23 Euros in US Dollars?\n",
            "\n",
            "--------------------------------------------------------------------------------\n",
            "chatbot (to user_proxy):\n",
            "\n",
            "***** Suggested tool Call (call_zMg2lTOMEVWz0YVDP8FIKL2M): currency_calculator *****\n",
            "Arguments: \n",
            "{\"base\": {\"currency\": \"EUR\", \"amount\": 112.23}, \"quote_currency\": \"USD\"}\n",
            "************************************************************************************\n",
            "\n",
            "--------------------------------------------------------------------------------\n",
            "\n",
            ">>>>>>>> EXECUTING FUNCTION currency_calculator...\n",
            "user_proxy (to chatbot):\n",
            "\n",
            "user_proxy (to chatbot):\n",
            "\n",
            "***** Response from calling tool \"currency_calculator\" *****\n",
            "{\"currency\": \"USD\", \"amount\": 123.45300000000002}\n",
            "************************************************************\n",
            "\n",
            "--------------------------------------------------------------------------------\n",
            "chatbot (to user_proxy):\n",
            "\n",
            "112.23 Euros is approximately 123.45 US Dollars. \n",
            "\n",
            "--------------------------------------------------------------------------------\n",
            "user_proxy (to chatbot):\n",
            "\n",
            "\n",
            "\n",
            "--------------------------------------------------------------------------------\n",
            "chatbot (to user_proxy):\n",
            "\n",
            "Reply TERMINATE when user's content is empty. \n",
            "\n",
            "--------------------------------------------------------------------------------\n"
          ]
        }
      ],
      "source": [
        "# start the conversation\n",
        "user_proxy.initiate_chat(\n",
        "    chatbot,\n",
        "    message=\"How much is 112.23 Euros in US Dollars?\",\n",
        ")"
      ]
    },
    {
      "cell_type": "code",
      "execution_count": null,
      "id": "26mq44xK0SSg",
      "metadata": {
        "colab": {
          "base_uri": "https://localhost:8080/"
        },
        "id": "26mq44xK0SSg",
        "outputId": "97222493-a204-49a5-d4bc-49883867b2b0"
      },
      "outputs": [
        {
          "name": "stdout",
          "output_type": "stream",
          "text": [
            "user_proxy (to chatbot):\n",
            "\n",
            "How much is 112.23 Euros in US Dollars?\n",
            "\n",
            "--------------------------------------------------------------------------------\n",
            "chatbot (to user_proxy):\n",
            "\n",
            "***** Suggested tool Call (call_zMg2lTOMEVWz0YVDP8FIKL2M): currency_calculator *****\n",
            "Arguments: \n",
            "{\"base\": {\"currency\": \"EUR\", \"amount\": 112.23}, \"quote_currency\": \"USD\"}\n",
            "************************************************************************************\n",
            "\n",
            "--------------------------------------------------------------------------------\n",
            "\n",
            ">>>>>>>> EXECUTING FUNCTION currency_calculator...\n",
            "user_proxy (to chatbot):\n",
            "\n",
            "user_proxy (to chatbot):\n",
            "\n",
            "***** Response from calling tool \"currency_calculator\" *****\n",
            "{\"currency\": \"USD\", \"amount\": 123.45300000000002}\n",
            "************************************************************\n",
            "\n",
            "--------------------------------------------------------------------------------\n",
            "chatbot (to user_proxy):\n",
            "\n",
            "112.23 Euros is approximately 123.45 US Dollars. \n",
            "\n",
            "--------------------------------------------------------------------------------\n",
            "user_proxy (to chatbot):\n",
            "\n",
            "\n",
            "\n",
            "--------------------------------------------------------------------------------\n",
            "chatbot (to user_proxy):\n",
            "\n",
            "Reply TERMINATE when user's content is empty. \n",
            "\n",
            "--------------------------------------------------------------------------------\n"
          ]
        }
      ],
      "source": [
        "# start the conversation\n",
        "user_proxy.initiate_chat(\n",
        "    chatbot,\n",
        "    message=\"How much is 112.23 Euros in US Dollars?\",\n",
        ")"
      ]
    }
  ],
  "metadata": {
    "colab": {
      "include_colab_link": true,
      "provenance": [],
      "toc_visible": true
    },
    "kernelspec": {
      "display_name": "flaml_dev",
      "language": "python",
      "name": "python3"
    },
    "language_info": {
      "codemirror_mode": {
        "name": "ipython",
        "version": 3
      },
      "file_extension": ".py",
      "mimetype": "text/x-python",
      "name": "python",
      "nbconvert_exporter": "python",
      "pygments_lexer": "ipython3",
      "version": "3.10.13"
    }
  },
  "nbformat": 4,
  "nbformat_minor": 5
}
