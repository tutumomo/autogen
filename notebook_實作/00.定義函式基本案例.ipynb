{
 "cells": [
  {
   "cell_type": "code",
   "execution_count": 11,
   "metadata": {},
   "outputs": [
    {
     "data": {
      "text/plain": [
       "'\\n# 註冊函數到 Agent ???? 似乎不需要\\nagent.register_function(add)\\nagent.register_function(subtract)\\nagent.register_function(multiply)\\nagent.register_function(divide)\\n\\n# 將函數添加到操作列表中\\nagent.add_operation(\"add\", add)\\nagent.add_operation(\"subtract\", subtract)\\nagent.add_operation(\"multiply\", multiply)\\nagent.add_operation(\"divide\", divide)\\n'"
      ]
     },
     "execution_count": 11,
     "metadata": {},
     "output_type": "execute_result"
    }
   ],
   "source": [
    "import autogen\n",
    "from typing_extensions import Annotated\n",
    "from autogen import AssistantAgent, Agent, UserProxyAgent, ConversableAgent, config_list_from_json\n",
    "\n",
    "#\n",
    "# config_list = config_list_from_json(env_or_file=\"OAI_CONFIG_LIST\")\n",
    "\n",
    "# 限定只用 gpt3.5\n",
    "config_list = autogen.config_list_from_json(\n",
    "    \"OAI_CONFIG_LIST\",\n",
    "    filter_dict={\n",
    "        \"model\": [\"LM Studio\"], # gpt-3.5-turbo-1106 ollama LM Studio\n",
    "    },\n",
    ")\n",
    "# 實例化一個 Autogen Agent\n",
    "agent = autogen.AssistantAgent(name=\"agent\", llm_config={\"config_list\": config_list})\n",
    "\"\"\"\n",
    "@user_proxy.register_for_execution()\n",
    "@assistant.register_for_llm(name=\"expert\", description=\"expert to solve math question.\")\n",
    "def expert(message: Annotated[str, \"Math question to solve.\"]) ->str:\n",
    "\"\"\"\n",
    "# 定義一個函數來計算兩個數字之和\n",
    "@agent.register_for_execution()\n",
    "@agent.register_for_llm(name=\"add\", description=\"add 2 numbers and return the result.\")\n",
    "def add(x: Annotated[float, \"numbers 1.\"], y: Annotated[float, \"numbers 2.\"]) ->float:\n",
    "    return x + y\n",
    "\n",
    "# 定義一個函數來計算兩個數字之差\n",
    "@agent.register_for_execution()\n",
    "@agent.register_for_llm(name=\"subtract\", description=\"subtract 2 numbers and return the result.\")\n",
    "def subtract(x: Annotated[float, \"numbers 1.\"], y: Annotated[float, \"numbers 2.\"])  ->float:\n",
    "    return x - y\n",
    "\n",
    "# 定義一個函數來計算兩個數字之積\n",
    "@agent.register_for_execution()\n",
    "@agent.register_for_llm(name=\"multiply\", description=\"multiply 2 numbers and return the result.\")\n",
    "def multiply(x: Annotated[float, \"numbers 1.\"], y: Annotated[float, \"numbers 2.\"]) ->float:\n",
    "    return x * y\n",
    "\n",
    "# 定義一個函數來計算兩個數字之商\n",
    "@agent.register_for_execution()\n",
    "@agent.register_for_llm(name=\"divide\", description=\"divide 2 numbers and return the result.\")\n",
    "def divide(x: Annotated[float, \"numbers 1.\"], y: Annotated[float, \"numbers 2. can't be 0\"]) ->float:\n",
    "    if y != 0:\n",
    "        return x / y\n",
    "    else:\n",
    "        return \"Error: Division by zero!\"\n",
    "\n",
    "\n",
    "\n",
    "\"\"\"\n",
    "# 註冊函數到 Agent ???? 似乎不需要\n",
    "agent.register_function(add)\n",
    "agent.register_function(subtract)\n",
    "agent.register_function(multiply)\n",
    "agent.register_function(divide)\n",
    "\n",
    "# 將函數添加到操作列表中\n",
    "agent.add_operation(\"add\", add)\n",
    "agent.add_operation(\"subtract\", subtract)\n",
    "agent.add_operation(\"multiply\", multiply)\n",
    "agent.add_operation(\"divide\", divide)\n",
    "\"\"\""
   ]
  }
 ],
 "metadata": {
  "kernelspec": {
   "display_name": "venv",
   "language": "python",
   "name": "python3"
  },
  "language_info": {
   "codemirror_mode": {
    "name": "ipython",
    "version": 3
   },
   "file_extension": ".py",
   "mimetype": "text/x-python",
   "name": "python",
   "nbconvert_exporter": "python",
   "pygments_lexer": "ipython3",
   "version": "3.11.8"
  }
 },
 "nbformat": 4,
 "nbformat_minor": 2
}
